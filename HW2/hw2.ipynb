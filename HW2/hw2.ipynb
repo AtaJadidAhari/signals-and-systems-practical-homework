{
 "cells": [
  {
   "cell_type": "code",
   "execution_count": 1,
   "metadata": {},
   "outputs": [],
   "source": [
    "import numpy as np\n",
    "import imageio as img\n",
    "from time import sleep\n",
    "import sounddevice as sd\n",
    "from scipy.io import wavfile\n",
    "from scipy.ndimage import convolve\n",
    "from matplotlib import pyplot as plt\n",
    "import scipy\n",
    "\n",
    "import cv2 as cv"
   ]
  },
  {
   "cell_type": "code",
   "execution_count": 2,
   "metadata": {},
   "outputs": [],
   "source": [
    "class Sound:\n",
    "    SampleRate = 0\n",
    "\n",
    "    @staticmethod\n",
    "    def open(path: str):\n",
    "        \"\"\"\n",
    "        :param path: path to the target wave file\n",
    "        :return: audio signal in np.ndarray form\n",
    "        \"\"\"\n",
    "        Sound.SampleRate, sig = wavfile.read(path)\n",
    "\n",
    "        return sig\n",
    "\n",
    "    @staticmethod\n",
    "    def draw(sig: np.ndarray, length: float, sig2: np.ndarray = None):\n",
    "        \"\"\"\n",
    "        :param sig: the target signal to be drawn\n",
    "        :param length: the length of the signal you want to be plotted\n",
    "        :param sig2: [optional] second target signal to be drawn\n",
    "        :return: None\n",
    "        \"\"\"\n",
    "        length = int(length * Sound.SampleRate)\n",
    "        length = min(len(sig), length) if sig2 is None else min(len(sig), len(sig2), length)\n",
    "        if sig2 is not None:\n",
    "            plt.subplot(2, 1, 1)\n",
    "            plt.plot(sig2[:length])\n",
    "            plt.subplot(2, 1, 2)\n",
    "        else:\n",
    "            plt.subplot(1, 1, 1)\n",
    "        plt.plot(sig[:length])\n",
    "        plt.show()\n",
    "\n",
    "    @staticmethod\n",
    "    def play(sig: np.ndarray):\n",
    "        sd.play(sig, Sound.SampleRate)\n",
    "        sleep(len(sig) / Sound.SampleRate)\n",
    "        \n",
    "        \n",
    "    def speed(sig: np.ndarray, spd: float):\n",
    "        \n",
    "        if spd > 1:\n",
    "            \n",
    "            num_of_removals = len(sig) - int(len(sig) / spd)\n",
    "            \n",
    "            step = int(len(sig) / num_of_removals)\n",
    "\n",
    "            to_remove = []\n",
    "            index = 0\n",
    "            for i in range(num_of_removals):\n",
    "                to_remove.append(index)\n",
    "                index = int(index + step)\n",
    "            \n",
    "            \n",
    "            return np.delete(sig, to_remove, 0)\n",
    "\n",
    "        elif spd < 1:\n",
    "\n",
    "            num_of_appendants =  int(len(sig) / spd) - len(sig)\n",
    "            step = len(sig) // num_of_appendants\n",
    "            index = 0\n",
    "            to_append = np.ones(len(sig)).astype(np.int16)\n",
    "\n",
    "\n",
    "            for i in range(num_of_appendants):\n",
    "                to_append[int(index)] += 1\n",
    "                index += step\n",
    "            return np.repeat(sig, to_append, 0)\n",
    "        else:\n",
    "            return sig\n",
    "\n"
   ]
  },
  {
   "cell_type": "code",
   "execution_count": 3,
   "metadata": {},
   "outputs": [],
   "source": [
    "def scale(sound, scaling_length):\n",
    "    return Sound.speed(sound, len(sound) / scaling_length)\n",
    "\n",
    "numbers = []\n",
    "for i in range(10):\n",
    "    numbers.append(Sound.open('./1/' + str(i) + '.wav')[:, 0])\n",
    "    \n",
    "#Sound.draw(numbers[0], 10)\n",
    "\n",
    "\n",
    "numbers[0] = numbers[0][5000: ]\n",
    "\n",
    "\n",
    "scaling_length = len(numbers[0])\n",
    "ind = 0\n",
    "for i in range(1, 10):\n",
    "    #print(len(sounds[i]), i)\n",
    "    if len(numbers[i]) > scaling_length:\n",
    "        scaling_length = len(numbers[i])\n",
    "        ind = i\n",
    "\n",
    "#scaling to the longest voice (7)\n",
    "\n",
    "for i in range(10):\n",
    "    #Sound.play(numbers[i])\n",
    "    numbers[i] = scale(numbers[i], scaling_length)\n",
    " \n",
    "\n"
   ]
  },
  {
   "cell_type": "code",
   "execution_count": 4,
   "metadata": {},
   "outputs": [],
   "source": [
    "fouriers = []\n",
    "for i in range(10):\n",
    "    fouriers.append(np.fft.fft(numbers[i]))\n",
    "\n"
   ]
  },
  {
   "cell_type": "code",
   "execution_count": 5,
   "metadata": {},
   "outputs": [
    {
     "data": {
      "image/png": "[encoded data removed]",
      "text/plain": [
       "<Figure size 432x288 with 1 Axes>"
      ]
     },
     "metadata": {
      "needs_background": "light"
     },
     "output_type": "display_data"
    }
   ],
   "source": [
    "all_numbers = Sound.open('./1/numbers.wav')[:, 0]\n",
    "\n",
    "Sound.draw(all_numbers, 20)\n",
    "\n",
    "numbers_ind = [[55000, 80000], [111000, 129000], [165500, 192500], [219000, 244000], [274000, 291000], \n",
    "               [326000, 360000], [380000, 402000], [434000, 459000], [475000, 503000]]\n",
    "\n",
    "\n",
    "numbers_from_all = [all_numbers[i[0]    : i[1]  ] for i in numbers_ind]\n",
    "#for i in numbers_from_all:\n",
    "#   Sound.play(i)\n",
    "\n",
    "\n",
    "numbers_from_all = [scale(i, scaling_length) for i in numbers_from_all]\n",
    "\n",
    "\n"
   ]
  },
  {
   "cell_type": "code",
   "execution_count": 6,
   "metadata": {},
   "outputs": [
    {
     "name": "stdout",
     "output_type": "stream",
     "text": [
      "3 1\n",
      "9 2\n",
      "4 4\n",
      "3 0\n",
      "7 7\n",
      "9 6\n",
      "9 9\n",
      "3 5\n",
      "5 8\n"
     ]
    }
   ],
   "source": [
    "def distance(i, j):\n",
    "    return np.abs(np.dot(i, j)) / ((np.math.sqrt(np.abs(np.dot(i, i)))) * (np.math.sqrt(np.abs(np.dot(j ,j)))))\n",
    "                                                                                                                                         \n",
    "\n",
    "\n",
    "all_numbers_fourie = [np.fft.fft(i) for i in numbers_from_all]\n",
    "true_numbers = [1, 2, 4, 0, 7, 6, 9, 5, 8]\n",
    "\n",
    "\n",
    "similarities = [[] for i in range(len(numbers_from_all))]\n",
    "\n",
    "for i in range(len(numbers_from_all)):\n",
    "    for j in range(len(fouriers)):\n",
    "        similarities[i].append(distance(all_numbers_fourie[i], fouriers[j]))\n",
    "\n",
    "nearest = []\n",
    "for i in range(len(numbers_from_all)):\n",
    "    nearest.append(similarities[i].index(max(similarities[i])))\n",
    "    \n",
    "\n",
    "\n",
    "\n",
    "\n",
    "for i in range(len(true_numbers)):\n",
    "    print(nearest[i], true_numbers[i])\n",
    "\n",
    "\n"
   ]
  },
  {
   "cell_type": "code",
   "execution_count": 10,
   "metadata": {},
   "outputs": [
    {
     "name": "stdout",
     "output_type": "stream",
     "text": [
      "[[    3     1]\n",
      " [   -2     0]\n",
      " [   -1    -1]\n",
      " ...\n",
      " [ -738  2506]\n",
      " [   11  6780]\n",
      " [ 3127 10340]]\n",
      "[    1     0    -1 ...  2506  6780 10340]\n",
      "6000000\n"
     ]
    }
   ],
   "source": [
    "pulp_fiction = Sound.open('./2/Song.wav')\n",
    "\n",
    "#Sound.play(pulp_fiction)\n",
    "\n",
    "\n",
    "import scipy.fftpack\n",
    "left = pulp_fiction[:, 0]\n",
    "right = pulp_fiction[:, 1]\n",
    "\n",
    "bottom = 4000000\n",
    "length = 200000\n",
    "\n",
    "lchunck = left[bottom : bottom + length]\n",
    "rchunck = right[bottom : bottom + length]\n",
    "#lfourie = np.fft.fft(lchunck)\n",
    "rfourie = np.fft.fft(rchunck)\n",
    "lfourie = np.fft.fft(lchunck)\n",
    "\n",
    "#Sound.play(chunk)\n",
    "\n"
   ]
  },
  {
   "cell_type": "code",
   "execution_count": 11,
   "metadata": {},
   "outputs": [
    {
     "data": {
      "image/png": "[encoded data removed]",
      "text/plain": [
       "<Figure size 432x288 with 2 Axes>"
      ]
     },
     "metadata": {
      "needs_background": "light"
     },
     "output_type": "display_data"
    }
   ],
   "source": [
    "plt.figure(1)\n",
    "a = plt.subplot(211)\n",
    "r = 2**16/2\n",
    "a.set_ylim([-r, r])\n",
    "a.set_xlabel('time [s]')\n",
    "a.set_ylabel('sample value [-]')\n",
    "x = np.arange(length)/44100\n",
    "\n",
    "plt.plot(x, lchunck)\n",
    "\n",
    "b = plt.subplot(212)\n",
    "\n",
    "b.set_xscale('log')\n",
    "b.set_xlabel('frequency [Hz]')\n",
    "b.set_ylabel('|amplitude|')\n",
    "plt.plot(abs(lfourie))\n",
    "plt.savefig('sample-graph.png')\n",
    "#Sound.play(lchunck)\n"
   ]
  },
  {
   "cell_type": "code",
   "execution_count": 12,
   "metadata": {},
   "outputs": [
    {
     "name": "stderr",
     "output_type": "stream",
     "text": [
      "c:\\users\\ata jadid ahari\\pycharmprojects\\stack\\venv\\lib\\site-packages\\ipykernel_launcher.py:26: ComplexWarning: Casting complex values to real discards the imaginary part\n"
     ]
    },
    {
     "data": {
      "image/png": "[encoded data removed]",
      "text/plain": [
       "<Figure size 432x288 with 1 Axes>"
      ]
     },
     "metadata": {
      "needs_background": "light"
     },
     "output_type": "display_data"
    }
   ],
   "source": [
    "\n",
    "lowpass = 20000 \n",
    "highpass = 100000\n",
    "\n",
    "lfourie_drums = np.copy(lfourie)\n",
    "rfourie_drums = np.copy(rfourie)\n",
    "\n",
    "lfourie_drums[:lowpass] =  0 \n",
    "\n",
    "rfourie_drums[: lowpass] = 0\n",
    "\n",
    "lfourie_drums[highpass:] = 0 \n",
    "rfourie_drums[highpass: ] = 0\n",
    "\n",
    "\n",
    "b = plt.subplot(212)\n",
    "\n",
    "b.set_xscale('log')\n",
    "b.set_xlabel('frequency [Hz]')\n",
    "b.set_ylabel('|amplitude|')\n",
    "plt.plot(abs(lfourie_drums))\n",
    "plt.savefig('sample-graph.png')\n",
    "\n",
    "\n",
    "#nl, nr = np.fft.ifft(lfourie), np.fft.ifft(rfourie) # (4)\n",
    "#ns = np.column_stack((nl,nr)).ravel().astype(np.int16)\n",
    "nl = np.fft.ifft(lfourie_drums).astype(np.int16)\n",
    "Sound.play(nl)\n"
   ]
  },
  {
   "cell_type": "code",
   "execution_count": 13,
   "metadata": {},
   "outputs": [
    {
     "name": "stdout",
     "output_type": "stream",
     "text": [
      "1.1028571428571428 2.1520861678004537 1.0492290249433107\n"
     ]
    },
    {
     "data": {
      "image/png": "[encoded data removed]",
      "text/plain": [
       "<Figure size 432x288 with 1 Axes>"
      ]
     },
     "metadata": {
      "needs_background": "light"
     },
     "output_type": "display_data"
    }
   ],
   "source": [
    "a = plt.subplot(211)\n",
    "r = 2**16/2\n",
    "a.set_ylim([-r, r])\n",
    "a.set_xlabel('time [s]')\n",
    "a.set_ylabel('sample value [-]')\n",
    "x = np.arange(length)/44100\n",
    "\n",
    "plt.plot(x, nl * 10)\n",
    "\n",
    "\n",
    "#Sound.play(nl)\n",
    "\n",
    "f = list(nl[1 * 44100: 2 * 44100]).index(max(nl[1 * 44100: 2 * 44100]))\n",
    "l = list(nl[2 * 44100: int(2.5 * 44100)]).index(max(nl[2 * 44100: int(2.5 * 44100)]))\n",
    "print((f / 44100) + 1, (l / 44100) + 2, (l / 44100) - (f / 44100) + 1)\n",
    "\n"
   ]
  }
 ],
 "metadata": {
  "kernelspec": {
   "display_name": "Python 3",
   "language": "python",
   "name": "python3"
  },
  "language_info": {
   "codemirror_mode": {
    "name": "ipython",
    "version": 3
   },
   "file_extension": ".py",
   "mimetype": "text/x-python",
   "name": "python",
   "nbconvert_exporter": "python",
   "pygments_lexer": "ipython3",
   "version": "3.6.2"
  }
 },
 "nbformat": 4,
 "nbformat_minor": 1
}
